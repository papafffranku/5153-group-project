{
 "cells": [
  {
   "cell_type": "code",
   "execution_count": null,
   "metadata": {},
   "outputs": [],
   "source": [
    "import azapi\n",
    "import pandas as pd"
   ]
  },
  {
   "cell_type": "code",
   "execution_count": null,
   "metadata": {},
   "outputs": [],
   "source": [
    "df_lyrics = pd.read_csv('spotifyGenresFinal.csv')"
   ]
  },
  {
   "cell_type": "code",
   "execution_count": null,
   "metadata": {},
   "outputs": [],
   "source": [
    "unique_genres = df_lyrics['genre'].unique()\n",
    "unique_genres"
   ]
  },
  {
   "cell_type": "code",
   "execution_count": null,
   "metadata": {},
   "outputs": [],
   "source": [
    "df_country = df_lyrics[df_lyrics['genre'] == 'Country'].reset_index(drop=True)\n",
    "df_edm = df_lyrics[df_lyrics['genre'] == 'EDM'].reset_index(drop=True)\n",
    "df_folk = df_lyrics[df_lyrics['genre'] == 'Folk'].reset_index(drop=True)\n",
    "df_gospel = df_lyrics[df_lyrics['genre'] == 'Gospel'].reset_index(drop=True)\n",
    "df_hiphop = df_lyrics[df_lyrics['genre'] == 'Hip hop'].reset_index(drop=True)\n",
    "df_jazz = df_lyrics[df_lyrics['genre'] == 'Jazz'].reset_index(drop=True)\n",
    "df_kpop = df_lyrics[df_lyrics['genre'] == 'K pop'].reset_index(drop=True)\n",
    "df_latin = df_lyrics[df_lyrics['genre'] == 'Latin'].reset_index(drop=True)\n",
    "df_metal = df_lyrics[df_lyrics['genre'] == 'Metal'].reset_index(drop=True)\n",
    "df_pop = df_lyrics[df_lyrics['genre'] == 'Pop'].reset_index(drop=True)\n",
    "df_rb = df_lyrics[df_lyrics['genre'] == 'R&B'].reset_index(drop=True)\n",
    "df_rap = df_lyrics[df_lyrics['genre'] == 'Rap'].reset_index(drop=True)\n",
    "df_rock = df_lyrics[df_lyrics['genre'] == 'Rock'].reset_index(drop=True)\n",
    "df_videogamemusic = df_lyrics[df_lyrics['genre'] == 'Video game music'].reset_index(drop=True)"
   ]
  },
  {
   "cell_type": "code",
   "execution_count": null,
   "metadata": {},
   "outputs": [],
   "source": [
    "api = AZlyrics()\n",
    "\n",
    "def get_lyrics(artist, title):\n",
    "    try:\n",
    "        if not artist or not title:\n",
    "            return \"Missing song or artist name\"\n",
    "        api.artist = artist.strip()\n",
    "        api.title = title.strip()\n",
    "        lyrics = api.getLyrics(save=False)\n",
    "        return lyrics\n",
    "    except Exception as e:\n",
    "        print(f\"Error fetching lyrics for '{title}' by '{artist}': {e}\")\n",
    "        return \"Error fetching lyrics\"\n",
    "\n",
    "def apply_lyrics(df):\n",
    "    df['lyrics'] = df.apply(lambda row: get_lyrics(row['artist_name'], row['song_name']), axis=1)\n",
    "    return df"
   ]
  },
  {
   "cell_type": "code",
   "execution_count": null,
   "metadata": {},
   "outputs": [],
   "source": [
    "df_country = apply_lyrics(df_country)\n",
    "df_edm = apply_lyrics(df_edm)\n",
    "df_folk = apply_lyrics(df_folk)\n",
    "df_gospel = apply_lyrics(df_gospel)\n",
    "df_hiphop = apply_lyrics(df_hiphop)\n",
    "df_jazz = apply_lyrics(df_jazz)\n",
    "df_kpop = apply_lyrics(df_kpop)\n",
    "df_latin = apply_lyrics(df_latin)\n",
    "df_metal = apply_lyrics(df_metal)\n",
    "df_pop = apply_lyrics(df_pop)\n",
    "df_rb = apply_lyrics(df_rb)\n",
    "df_rap = apply_lyrics(df_rap)\n",
    "df_rock = apply_lyrics(df_rock)\n",
    "df_videogamemusic = apply_lyrics(df_videogamemusic)"
   ]
  },
  {
   "cell_type": "code",
   "execution_count": null,
   "metadata": {},
   "outputs": [],
   "source": [
    "dataframes = [\n",
    "    df_country,\n",
    "    df_edm,\n",
    "    df_folk,\n",
    "    df_gospel,\n",
    "    df_hiphop,\n",
    "    df_jazz,\n",
    "    df_kpop,\n",
    "    df_latin,\n",
    "    df_metal,\n",
    "    df_pop,\n",
    "    df_rb,\n",
    "    df_rap,\n",
    "    df_rock,\n",
    "    df_videogamemusic\n",
    "]\n",
    "\n",
    "df_combined = pd.concat(dataframes, ignore_index=True)\n",
    "print(df_combined.head())\n",
    "df_combined.to_csv('combined_lyrics.csv', index=False)"
   ]
  }
 ],
 "metadata": {
  "kernelspec": {
   "display_name": "Python 3",
   "language": "python",
   "name": "python3"
  },
  "language_info": {
   "codemirror_mode": {
    "name": "ipython",
    "version": 3
   },
   "file_extension": ".py",
   "mimetype": "text/x-python",
   "name": "python",
   "nbconvert_exporter": "python",
   "pygments_lexer": "ipython3",
   "version": "3.12.2"
  }
 },
 "nbformat": 4,
 "nbformat_minor": 2
}
